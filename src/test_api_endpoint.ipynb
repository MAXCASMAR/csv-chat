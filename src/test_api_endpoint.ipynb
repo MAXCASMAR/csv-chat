{
  "nbformat": 4,
  "nbformat_minor": 0,
  "metadata": {
    "colab": {
      "provenance": []
    },
    "kernelspec": {
      "name": "python3",
      "display_name": "Python 3"
    },
    "language_info": {
      "name": "python"
    }
  },
  "cells": [
    {
      "cell_type": "code",
      "source": [
        "import requests\n",
        "import json\n",
        "\n",
        "# Define your payload. This will be the event that your lambda function receives.\n",
        "payload = {\"question\": \"¿Cuál es el precio promedio de los apartamentos en venta?\"}\n",
        "\n",
        "# Call your service locally. Note the endpoint URL depends on how you have setup your serverless service.\n",
        "headers = {'Content-Type': 'application/json'}\n",
        "response = requests.post(\"https://kr2nc9pnk8.execute-api.us-west-2.amazonaws.com/dev/chat\", data=json.dumps(payload), headers=headers)\n",
        "\n",
        "response.text"
      ],
      "metadata": {
        "colab": {
          "base_uri": "https://localhost:8080/",
          "height": 36
        },
        "id": "xZkhxnvkMK1D",
        "outputId": "07678b56-2bd7-464a-9482-3dac5ca103ec"
      },
      "execution_count": 65,
      "outputs": [
        {
          "output_type": "execute_result",
          "data": {
            "text/plain": [
              "'El precio promedio de los apartamentos en venta es de 6,876,559 unidades monetarias.'"
            ],
            "application/vnd.google.colaboratory.intrinsic+json": {
              "type": "string"
            }
          },
          "metadata": {},
          "execution_count": 65
        }
      ]
    }
  ]
}